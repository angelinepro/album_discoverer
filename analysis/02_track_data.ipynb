{
 "cells": [
  {
   "cell_type": "markdown",
   "metadata": {},
   "source": [
    "# Notebook 2: Get Additional Music Data from Spotify API"
   ]
  },
  {
   "cell_type": "markdown",
   "metadata": {},
   "source": [
    "### Introduction"
   ]
  },
  {
   "cell_type": "markdown",
   "metadata": {},
   "source": [
    "Now that I have the list of 1000 albums to get data for, I can start working with the Spotify API to get the additional data required. I'll need to first get album IDs and artist genre which I will use to validate my PCA results later. Then I can get the track list for each album and the individual audio features for each track. "
   ]
  },
  {
   "cell_type": "markdown",
   "metadata": {},
   "source": [
    "You'll need a Spotify token of your own. I have a separate file called credentials.py in the same folder that uses the util function from the spotipy library to create a token with my username, client_id, client_secret, redirect_uri, and scope. You can find more details on that here, under \"Becoming a Spotify Developer\" : https://towardsdatascience.com/get-your-spotify-streaming-history-with-python-d5a208bbcbd3"
   ]
  },
  {
   "cell_type": "code",
   "execution_count": 1,
   "metadata": {
    "ExecuteTime": {
     "end_time": "2020-06-18T17:02:22.310504Z",
     "start_time": "2020-06-18T17:02:21.536389Z"
    }
   },
   "outputs": [],
   "source": [
    "import pandas as pd\n",
    "import pickle\n",
    "import sys\n",
    "import requests\n",
    "from credentials import token\n",
    "\n",
    "sys.setrecursionlimit(1000000) #to allow pickling"
   ]
  },
  {
   "cell_type": "markdown",
   "metadata": {},
   "source": [
    "### Read in Critics DataFrame"
   ]
  },
  {
   "cell_type": "markdown",
   "metadata": {},
   "source": [
    "The critics dataframe contains information on the artist and album that I'll need to extract, format, and feed into the Spotify API."
   ]
  },
  {
   "cell_type": "code",
   "execution_count": 2,
   "metadata": {
    "ExecuteTime": {
     "end_time": "2020-06-18T17:02:24.030232Z",
     "start_time": "2020-06-18T17:02:24.024502Z"
    }
   },
   "outputs": [],
   "source": [
    "import pickle\n",
    "with open('../data/critics_df_all.pickle', 'rb') as read_file:\n",
    "    critics = pickle.load(read_file)"
   ]
  },
  {
   "cell_type": "code",
   "execution_count": 3,
   "metadata": {
    "ExecuteTime": {
     "end_time": "2020-06-18T17:02:24.802498Z",
     "start_time": "2020-06-18T17:02:24.794724Z"
    }
   },
   "outputs": [
    {
     "name": "stdout",
     "output_type": "stream",
     "text": [
      "<class 'pandas.core.frame.DataFrame'>\n",
      "RangeIndex: 1093 entries, 0 to 1092\n",
      "Data columns (total 5 columns):\n",
      " #   Column         Non-Null Count  Dtype \n",
      "---  ------         --------------  ----- \n",
      " 0   Album_Title    1093 non-null   object\n",
      " 1   Artist_Name    1093 non-null   object\n",
      " 2   Critic_Rating  1093 non-null   object\n",
      " 3   User_Rating    1093 non-null   object\n",
      " 4   Release_Date   1093 non-null   object\n",
      "dtypes: object(5)\n",
      "memory usage: 42.8+ KB\n"
     ]
    }
   ],
   "source": [
    "critics.info()"
   ]
  },
  {
   "cell_type": "code",
   "execution_count": 4,
   "metadata": {
    "ExecuteTime": {
     "end_time": "2020-06-18T17:02:27.133356Z",
     "start_time": "2020-06-18T17:02:27.130790Z"
    }
   },
   "outputs": [],
   "source": [
    "album_title = critics.Album_Title\n",
    "artist_name = critics.Artist_Name"
   ]
  },
  {
   "cell_type": "code",
   "execution_count": 5,
   "metadata": {
    "ExecuteTime": {
     "end_time": "2020-06-18T17:02:28.051481Z",
     "start_time": "2020-06-18T17:02:28.047645Z"
    }
   },
   "outputs": [],
   "source": [
    "#This is the format to submit information to the Spotify API.\n",
    "q_list = list(map(lambda x,y: 'album:'+ str(x) + ' artist:' + str(y), album_title, artist_name))"
   ]
  },
  {
   "cell_type": "code",
   "execution_count": 58,
   "metadata": {
    "ExecuteTime": {
     "end_time": "2020-06-15T02:55:04.031028Z",
     "start_time": "2020-06-15T02:55:04.027269Z"
    }
   },
   "outputs": [],
   "source": [
    "# with open('../data/album_artist_list.pickle', 'wb') as to_write:\n",
    "#     pickle.dump(q_list, to_write)"
   ]
  },
  {
   "cell_type": "markdown",
   "metadata": {},
   "source": [
    "### Get Album IDs for Reviewed Albums"
   ]
  },
  {
   "cell_type": "code",
   "execution_count": 8,
   "metadata": {
    "ExecuteTime": {
     "end_time": "2020-06-15T15:41:18.231736Z",
     "start_time": "2020-06-15T15:41:18.228451Z"
    }
   },
   "outputs": [],
   "source": [
    "# with open('../data/album_artist_list.pickle', 'rb') as read_file:\n",
    "#     q_list = pickle.load(read_file)"
   ]
  },
  {
   "cell_type": "code",
   "execution_count": 6,
   "metadata": {
    "ExecuteTime": {
     "end_time": "2020-06-18T17:02:32.243429Z",
     "start_time": "2020-06-18T17:02:32.238377Z"
    }
   },
   "outputs": [],
   "source": [
    "def get_info(q, token, type = 'album', query = 'id'):\n",
    "    headers = {\n",
    "    'Accept': 'application/json',\n",
    "    'Content-Type': 'application/json',\n",
    "    'Authorization': f'Bearer ' + token,\n",
    "    }\n",
    "    params = [\n",
    "        ('q', q),\n",
    "        ('type', type),\n",
    "        ('market', 'US')\n",
    "    ]\n",
    "    json_key = str(type + 's')\n",
    "    try: \n",
    "        response = requests.get('https://api.spotify.com/v1/search',\n",
    "                           headers = headers, params = params, timeout = 5)\n",
    "        json = response.json()\n",
    "        first_result = json[json_key]['items'][0][query]\n",
    "        return first_result\n",
    "    except:\n",
    "        return \"None Found\""
   ]
  },
  {
   "cell_type": "code",
   "execution_count": 7,
   "metadata": {
    "ExecuteTime": {
     "end_time": "2020-06-18T17:05:25.181395Z",
     "start_time": "2020-06-18T17:02:34.128231Z"
    }
   },
   "outputs": [],
   "source": [
    "album_ids = pd.DataFrame([q_list, [get_info(i, token) for i in q_list]]).T"
   ]
  },
  {
   "cell_type": "code",
   "execution_count": 8,
   "metadata": {
    "ExecuteTime": {
     "end_time": "2020-06-18T17:06:19.642521Z",
     "start_time": "2020-06-18T17:06:19.636120Z"
    }
   },
   "outputs": [],
   "source": [
    "album_ids.columns = ['album_artist', 'album_id']"
   ]
  },
  {
   "cell_type": "code",
   "execution_count": 9,
   "metadata": {
    "ExecuteTime": {
     "end_time": "2020-06-18T17:06:20.313114Z",
     "start_time": "2020-06-18T17:06:20.288824Z"
    }
   },
   "outputs": [
    {
     "data": {
      "text/html": [
       "<div>\n",
       "<style scoped>\n",
       "    .dataframe tbody tr th:only-of-type {\n",
       "        vertical-align: middle;\n",
       "    }\n",
       "\n",
       "    .dataframe tbody tr th {\n",
       "        vertical-align: top;\n",
       "    }\n",
       "\n",
       "    .dataframe thead th {\n",
       "        text-align: right;\n",
       "    }\n",
       "</style>\n",
       "<table border=\"1\" class=\"dataframe\">\n",
       "  <thead>\n",
       "    <tr style=\"text-align: right;\">\n",
       "      <th></th>\n",
       "      <th>album_artist</th>\n",
       "      <th>album_id</th>\n",
       "    </tr>\n",
       "  </thead>\n",
       "  <tbody>\n",
       "    <tr>\n",
       "      <th>0</th>\n",
       "      <td>album:Ten Freedom Summers artist:Wadada Leo Smith</td>\n",
       "      <td>None Found</td>\n",
       "    </tr>\n",
       "    <tr>\n",
       "      <th>1</th>\n",
       "      <td>album:Fetch the Bolt Cutters artist:Fiona Apple</td>\n",
       "      <td>0fO1KemWL2uCCQmM22iKlj</td>\n",
       "    </tr>\n",
       "    <tr>\n",
       "      <th>2</th>\n",
       "      <td>album:SMiLE artist:Brian Wilson</td>\n",
       "      <td>4Uc6YCjpfyjj02rZfg2EUv</td>\n",
       "    </tr>\n",
       "    <tr>\n",
       "      <th>3</th>\n",
       "      <td>album:Van Lear Rose artist:Loretta Lynn</td>\n",
       "      <td>3mheNcbxiCqs3EcN5DcCye</td>\n",
       "    </tr>\n",
       "    <tr>\n",
       "      <th>4</th>\n",
       "      <td>album:To Pimp A Butterfly artist:Kendrick Lamar</td>\n",
       "      <td>7ycBtnsMtyVbbwTfJwRjSP</td>\n",
       "    </tr>\n",
       "    <tr>\n",
       "      <th>...</th>\n",
       "      <td>...</td>\n",
       "      <td>...</td>\n",
       "    </tr>\n",
       "    <tr>\n",
       "      <th>1088</th>\n",
       "      <td>album:Music Tapes for Clouds &amp; Tornadoes artis...</td>\n",
       "      <td>1Cm8AoA6lAX80LvdNuoEro</td>\n",
       "    </tr>\n",
       "    <tr>\n",
       "      <th>1089</th>\n",
       "      <td>album:Goths artist:The Mountain Goats</td>\n",
       "      <td>6VTTkMIKHhmFsZkKXsvS5I</td>\n",
       "    </tr>\n",
       "    <tr>\n",
       "      <th>1090</th>\n",
       "      <td>album:Stubborn Persistent Illusions artist:Do ...</td>\n",
       "      <td>1wrLF6seLRorRM7Khq6RJX</td>\n",
       "    </tr>\n",
       "    <tr>\n",
       "      <th>1091</th>\n",
       "      <td>album:Severant artist:Kuedo</td>\n",
       "      <td>4E68d3pPsJlzNqVbR1amZP</td>\n",
       "    </tr>\n",
       "    <tr>\n",
       "      <th>1092</th>\n",
       "      <td>album:American Gangster artist:Jay-Z</td>\n",
       "      <td>6QOGDVh3mVnAJYPnt66Qj5</td>\n",
       "    </tr>\n",
       "  </tbody>\n",
       "</table>\n",
       "<p>1093 rows × 2 columns</p>\n",
       "</div>"
      ],
      "text/plain": [
       "                                           album_artist  \\\n",
       "0     album:Ten Freedom Summers artist:Wadada Leo Smith   \n",
       "1       album:Fetch the Bolt Cutters artist:Fiona Apple   \n",
       "2                       album:SMiLE artist:Brian Wilson   \n",
       "3               album:Van Lear Rose artist:Loretta Lynn   \n",
       "4       album:To Pimp A Butterfly artist:Kendrick Lamar   \n",
       "...                                                 ...   \n",
       "1088  album:Music Tapes for Clouds & Tornadoes artis...   \n",
       "1089              album:Goths artist:The Mountain Goats   \n",
       "1090  album:Stubborn Persistent Illusions artist:Do ...   \n",
       "1091                        album:Severant artist:Kuedo   \n",
       "1092               album:American Gangster artist:Jay-Z   \n",
       "\n",
       "                    album_id  \n",
       "0                 None Found  \n",
       "1     0fO1KemWL2uCCQmM22iKlj  \n",
       "2     4Uc6YCjpfyjj02rZfg2EUv  \n",
       "3     3mheNcbxiCqs3EcN5DcCye  \n",
       "4     7ycBtnsMtyVbbwTfJwRjSP  \n",
       "...                      ...  \n",
       "1088  1Cm8AoA6lAX80LvdNuoEro  \n",
       "1089  6VTTkMIKHhmFsZkKXsvS5I  \n",
       "1090  1wrLF6seLRorRM7Khq6RJX  \n",
       "1091  4E68d3pPsJlzNqVbR1amZP  \n",
       "1092  6QOGDVh3mVnAJYPnt66Qj5  \n",
       "\n",
       "[1093 rows x 2 columns]"
      ]
     },
     "execution_count": 9,
     "metadata": {},
     "output_type": "execute_result"
    }
   ],
   "source": [
    "album_ids"
   ]
  },
  {
   "cell_type": "markdown",
   "metadata": {},
   "source": [
    "### Get Artist Genre Data"
   ]
  },
  {
   "cell_type": "code",
   "execution_count": 10,
   "metadata": {
    "ExecuteTime": {
     "end_time": "2020-06-18T17:06:24.780520Z",
     "start_time": "2020-06-18T17:06:24.775952Z"
    }
   },
   "outputs": [],
   "source": [
    "def get_artist_id(q, token):\n",
    "    headers = {\n",
    "    'Accept': 'application/json',\n",
    "    'Content-Type': 'application/json',\n",
    "    'Authorization': f'Bearer ' + token,\n",
    "    }\n",
    "    params = [\n",
    "        ('q', q),\n",
    "        ('type', 'artist'),\n",
    "        ('market', 'US')\n",
    "    ]\n",
    "    try: \n",
    "        response = requests.get('https://api.spotify.com/v1/search',\n",
    "                           headers = headers, params = params, timeout = 5)\n",
    "        json = response.json()\n",
    "        first_result = json['artists']['items'][0]['genres']\n",
    "        return first_result\n",
    "    except:\n",
    "        return \"None Found\""
   ]
  },
  {
   "cell_type": "code",
   "execution_count": 11,
   "metadata": {
    "ExecuteTime": {
     "end_time": "2020-06-18T17:09:42.088284Z",
     "start_time": "2020-06-18T17:06:25.982736Z"
    }
   },
   "outputs": [],
   "source": [
    "album_genre = pd.concat([album_ids, pd.Series([get_info(i, token, type = 'artist', query = 'genres') \n",
    "                                 for i in artist_name]).rename('genre', inplace = True)], axis = 1)"
   ]
  },
  {
   "cell_type": "code",
   "execution_count": 12,
   "metadata": {
    "ExecuteTime": {
     "end_time": "2020-06-18T17:12:36.374368Z",
     "start_time": "2020-06-18T17:12:36.367564Z"
    }
   },
   "outputs": [
    {
     "name": "stdout",
     "output_type": "stream",
     "text": [
      "<class 'pandas.core.frame.DataFrame'>\n",
      "RangeIndex: 1093 entries, 0 to 1092\n",
      "Data columns (total 3 columns):\n",
      " #   Column        Non-Null Count  Dtype \n",
      "---  ------        --------------  ----- \n",
      " 0   album_artist  1093 non-null   object\n",
      " 1   album_id      1093 non-null   object\n",
      " 2   genre         1093 non-null   object\n",
      "dtypes: object(3)\n",
      "memory usage: 25.7+ KB\n"
     ]
    }
   ],
   "source": [
    "album_genre.info()"
   ]
  },
  {
   "cell_type": "code",
   "execution_count": 13,
   "metadata": {
    "ExecuteTime": {
     "end_time": "2020-06-18T17:12:38.240260Z",
     "start_time": "2020-06-18T17:12:38.233457Z"
    }
   },
   "outputs": [],
   "source": [
    "# This drops all instances where the album from Metacritic is not on Spotify, as well as \n",
    "# instances when the same album shows up twice. \n",
    "album_genre = album_genre[album_genre.album_id != 'None Found'].drop_duplicates(subset = 'album_id').reset_index(drop = True)"
   ]
  },
  {
   "cell_type": "code",
   "execution_count": 14,
   "metadata": {
    "ExecuteTime": {
     "end_time": "2020-06-18T17:12:39.367171Z",
     "start_time": "2020-06-18T17:12:39.361364Z"
    }
   },
   "outputs": [
    {
     "name": "stdout",
     "output_type": "stream",
     "text": [
      "<class 'pandas.core.frame.DataFrame'>\n",
      "RangeIndex: 992 entries, 0 to 991\n",
      "Data columns (total 3 columns):\n",
      " #   Column        Non-Null Count  Dtype \n",
      "---  ------        --------------  ----- \n",
      " 0   album_artist  992 non-null    object\n",
      " 1   album_id      992 non-null    object\n",
      " 2   genre         992 non-null    object\n",
      "dtypes: object(3)\n",
      "memory usage: 23.4+ KB\n"
     ]
    }
   ],
   "source": [
    "album_genre.info()"
   ]
  },
  {
   "cell_type": "code",
   "execution_count": 57,
   "metadata": {
    "ExecuteTime": {
     "end_time": "2020-06-15T02:54:32.382354Z",
     "start_time": "2020-06-15T02:54:32.376944Z"
    }
   },
   "outputs": [],
   "source": [
    "# with open('../data/album_genre_critic.pickle', 'wb') as to_write:\n",
    "#     pickle.dump(album_genre, to_write)"
   ]
  },
  {
   "cell_type": "markdown",
   "metadata": {},
   "source": [
    "### Get Track List for each Album ID"
   ]
  },
  {
   "cell_type": "code",
   "execution_count": 4,
   "metadata": {
    "ExecuteTime": {
     "end_time": "2020-06-15T15:34:18.554073Z",
     "start_time": "2020-06-15T15:34:18.544835Z"
    }
   },
   "outputs": [],
   "source": [
    "# with open('../data/album_genre_critic.pickle', 'rb') as read_file:\n",
    "#     album_genre = pickle.load(read_file)"
   ]
  },
  {
   "cell_type": "code",
   "execution_count": 15,
   "metadata": {
    "ExecuteTime": {
     "end_time": "2020-06-18T17:12:41.711724Z",
     "start_time": "2020-06-18T17:12:41.706431Z"
    }
   },
   "outputs": [],
   "source": [
    "def get_tracklist(album_id, token):\n",
    "    headers = {\n",
    "        'Accept': 'application/json',\n",
    "        'Content-Type': 'application/json',\n",
    "        'Authorization': f'Bearer ' + token,\n",
    "    }\n",
    "    get_url = 'https://api.spotify.com/v1/albums/' + album_id + '/tracks'\n",
    "    \n",
    "    response = requests.get(get_url, headers=headers, params=None)\n",
    "    json = response.json()\n",
    "    first_result = []\n",
    "    album_id_list = []\n",
    "    for i in json['items']:\n",
    "        first_result.append(i['id'])\n",
    "        album_id_list.append(album_id)\n",
    "    return pd.DataFrame(list(zip(album_id_list, first_result)), columns = ['album_id', 'track_id'])"
   ]
  },
  {
   "cell_type": "code",
   "execution_count": 16,
   "metadata": {
    "ExecuteTime": {
     "end_time": "2020-06-18T17:15:02.681238Z",
     "start_time": "2020-06-18T17:12:43.186612Z"
    }
   },
   "outputs": [],
   "source": [
    "validalbum_trackid = pd.concat([get_tracklist(i, token)  for i in album_genre['album_id']])"
   ]
  },
  {
   "cell_type": "code",
   "execution_count": 17,
   "metadata": {
    "ExecuteTime": {
     "end_time": "2020-06-18T17:15:27.300972Z",
     "start_time": "2020-06-18T17:15:27.291129Z"
    }
   },
   "outputs": [],
   "source": [
    "album_track_df = album_genre.merge(validalbum_trackid, how = 'inner', on = 'album_id')"
   ]
  },
  {
   "cell_type": "code",
   "execution_count": 58,
   "metadata": {
    "ExecuteTime": {
     "end_time": "2020-06-15T16:18:17.576811Z",
     "start_time": "2020-06-15T16:18:17.568485Z"
    }
   },
   "outputs": [],
   "source": [
    "# with open('../data/album_track_df.pickle', 'wb') as to_write:\n",
    "#     pickle.dump(album_track_df, to_write)"
   ]
  },
  {
   "cell_type": "markdown",
   "metadata": {},
   "source": [
    "### Get Track Features for All Tracks"
   ]
  },
  {
   "cell_type": "code",
   "execution_count": null,
   "metadata": {
    "ExecuteTime": {
     "end_time": "2020-05-31T19:48:12.663124Z",
     "start_time": "2020-05-31T19:48:12.661056Z"
    }
   },
   "outputs": [],
   "source": [
    "# with open('../data/album_track_df.pickle', 'rb') as read_file:\n",
    "#     album_track_df = pickle.load(read_file)"
   ]
  },
  {
   "cell_type": "code",
   "execution_count": 18,
   "metadata": {
    "ExecuteTime": {
     "end_time": "2020-06-18T17:15:29.031703Z",
     "start_time": "2020-06-18T17:15:29.029033Z"
    }
   },
   "outputs": [],
   "source": [
    "tracks = album_track_df['track_id']"
   ]
  },
  {
   "cell_type": "code",
   "execution_count": 19,
   "metadata": {
    "ExecuteTime": {
     "end_time": "2020-06-18T17:15:29.948232Z",
     "start_time": "2020-06-18T17:15:29.944110Z"
    }
   },
   "outputs": [],
   "source": [
    "def get_features(track_list, token):\n",
    "    headers = {\n",
    "        'Accept': 'application/json',\n",
    "        'Content-Type': 'application/json',\n",
    "        'Authorization': f'Bearer ' + token,\n",
    "    }\n",
    "    ids = ','.join(track_list)    \n",
    "    params = [\n",
    "        ('ids', ids),\n",
    "        ('market', 'US')\n",
    "    ]    \n",
    "    response = requests.get('https://api.spotify.com/v1/audio-features/', headers=headers, params=params)\n",
    "    json = response.json()\n",
    "    return pd.DataFrame(json['audio_features'])"
   ]
  },
  {
   "cell_type": "code",
   "execution_count": 20,
   "metadata": {
    "ExecuteTime": {
     "end_time": "2020-06-18T17:16:15.595000Z",
     "start_time": "2020-06-18T17:15:32.175993Z"
    }
   },
   "outputs": [],
   "source": [
    "all = pd.concat([pd.concat(list(map(lambda x, y: pd.concat([album_track_df.iloc[x:y, :].reset_index(drop = True), \n",
    "                                                   get_features(tracks[x:y], token)], axis = 1), \n",
    "                           [i for i in range(0, 12101, 50)], \n",
    "                           [i for i in range(50, 12151, 50)]))), \n",
    "\n",
    "                 pd.concat([album_track_df.iloc[12150:, :].reset_index(drop = True), \n",
    "                            get_features(tracks[12150:], token)], axis = 1)]).reset_index(drop = True)"
   ]
  },
  {
   "cell_type": "code",
   "execution_count": 21,
   "metadata": {
    "ExecuteTime": {
     "end_time": "2020-06-18T17:17:18.380663Z",
     "start_time": "2020-06-18T17:17:18.364938Z"
    }
   },
   "outputs": [
    {
     "name": "stdout",
     "output_type": "stream",
     "text": [
      "<class 'pandas.core.frame.DataFrame'>\n",
      "RangeIndex: 12166 entries, 0 to 12165\n",
      "Data columns (total 22 columns):\n",
      " #   Column            Non-Null Count  Dtype  \n",
      "---  ------            --------------  -----  \n",
      " 0   album_artist      12166 non-null  object \n",
      " 1   album_id          12166 non-null  object \n",
      " 2   genre             12166 non-null  object \n",
      " 3   track_id          12166 non-null  object \n",
      " 4   danceability      12166 non-null  float64\n",
      " 5   energy            12166 non-null  float64\n",
      " 6   key               12166 non-null  int64  \n",
      " 7   loudness          12166 non-null  float64\n",
      " 8   mode              12166 non-null  int64  \n",
      " 9   speechiness       12166 non-null  float64\n",
      " 10  acousticness      12166 non-null  float64\n",
      " 11  instrumentalness  12166 non-null  float64\n",
      " 12  liveness          12166 non-null  float64\n",
      " 13  valence           12166 non-null  float64\n",
      " 14  tempo             12166 non-null  float64\n",
      " 15  type              12166 non-null  object \n",
      " 16  id                12166 non-null  object \n",
      " 17  uri               12166 non-null  object \n",
      " 18  track_href        12166 non-null  object \n",
      " 19  analysis_url      12166 non-null  object \n",
      " 20  duration_ms       12166 non-null  int64  \n",
      " 21  time_signature    12166 non-null  int64  \n",
      "dtypes: float64(9), int64(4), object(9)\n",
      "memory usage: 2.0+ MB\n"
     ]
    }
   ],
   "source": [
    "all.info()"
   ]
  },
  {
   "cell_type": "code",
   "execution_count": 66,
   "metadata": {
    "ExecuteTime": {
     "end_time": "2020-06-15T16:35:29.250938Z",
     "start_time": "2020-06-15T16:35:29.214848Z"
    }
   },
   "outputs": [],
   "source": [
    "# with open('../data/full.pickle', 'wb') as to_write:\n",
    "#     pickle.dump(all, to_write)"
   ]
  },
  {
   "cell_type": "markdown",
   "metadata": {},
   "source": [
    "### Explore all features"
   ]
  },
  {
   "cell_type": "code",
   "execution_count": 21,
   "metadata": {
    "ExecuteTime": {
     "end_time": "2020-06-12T00:14:13.751255Z",
     "start_time": "2020-06-12T00:14:13.724162Z"
    }
   },
   "outputs": [],
   "source": [
    "# with open('../data/full.pickle', 'rb') as read_file:\n",
    "#     all = pickle.load(read_file)"
   ]
  },
  {
   "cell_type": "code",
   "execution_count": 22,
   "metadata": {
    "ExecuteTime": {
     "end_time": "2020-06-18T17:17:23.760153Z",
     "start_time": "2020-06-18T17:17:23.752018Z"
    }
   },
   "outputs": [
    {
     "data": {
      "text/plain": [
       "11    176\n",
       "10    156\n",
       "12    145\n",
       "13     93\n",
       "20     66\n",
       "14     65\n",
       "9      64\n",
       "15     51\n",
       "16     41\n",
       "8      29\n",
       "17     25\n",
       "7      19\n",
       "18     18\n",
       "19     12\n",
       "6      12\n",
       "4       9\n",
       "5       8\n",
       "1       2\n",
       "2       1\n",
       "Name: album_id, dtype: int64"
      ]
     },
     "execution_count": 22,
     "metadata": {},
     "output_type": "execute_result"
    }
   ],
   "source": [
    "all.album_id.value_counts().value_counts()\n",
    "# Albums have, at most, 20 tracks. "
   ]
  },
  {
   "cell_type": "code",
   "execution_count": 23,
   "metadata": {
    "ExecuteTime": {
     "end_time": "2020-06-18T17:17:26.556792Z",
     "start_time": "2020-06-18T17:17:26.499217Z"
    },
    "scrolled": true
   },
   "outputs": [
    {
     "data": {
      "text/html": [
       "<div>\n",
       "<style scoped>\n",
       "    .dataframe tbody tr th:only-of-type {\n",
       "        vertical-align: middle;\n",
       "    }\n",
       "\n",
       "    .dataframe tbody tr th {\n",
       "        vertical-align: top;\n",
       "    }\n",
       "\n",
       "    .dataframe thead th {\n",
       "        text-align: right;\n",
       "    }\n",
       "</style>\n",
       "<table border=\"1\" class=\"dataframe\">\n",
       "  <thead>\n",
       "    <tr style=\"text-align: right;\">\n",
       "      <th></th>\n",
       "      <th>danceability</th>\n",
       "      <th>energy</th>\n",
       "      <th>key</th>\n",
       "      <th>loudness</th>\n",
       "      <th>mode</th>\n",
       "      <th>speechiness</th>\n",
       "      <th>acousticness</th>\n",
       "      <th>instrumentalness</th>\n",
       "      <th>liveness</th>\n",
       "      <th>valence</th>\n",
       "      <th>tempo</th>\n",
       "      <th>duration_ms</th>\n",
       "      <th>time_signature</th>\n",
       "    </tr>\n",
       "  </thead>\n",
       "  <tbody>\n",
       "    <tr>\n",
       "      <th>count</th>\n",
       "      <td>12166.000000</td>\n",
       "      <td>12166.000000</td>\n",
       "      <td>12166.000000</td>\n",
       "      <td>12166.000000</td>\n",
       "      <td>12166.000000</td>\n",
       "      <td>12166.000000</td>\n",
       "      <td>12166.000000</td>\n",
       "      <td>12166.000000</td>\n",
       "      <td>12166.000000</td>\n",
       "      <td>12166.000000</td>\n",
       "      <td>12166.000000</td>\n",
       "      <td>1.216600e+04</td>\n",
       "      <td>12166.000000</td>\n",
       "    </tr>\n",
       "    <tr>\n",
       "      <th>mean</th>\n",
       "      <td>0.494388</td>\n",
       "      <td>0.583324</td>\n",
       "      <td>5.221437</td>\n",
       "      <td>-9.256750</td>\n",
       "      <td>0.675900</td>\n",
       "      <td>0.087871</td>\n",
       "      <td>0.342467</td>\n",
       "      <td>0.228440</td>\n",
       "      <td>0.200862</td>\n",
       "      <td>0.404076</td>\n",
       "      <td>119.495330</td>\n",
       "      <td>2.459897e+05</td>\n",
       "      <td>3.856403</td>\n",
       "    </tr>\n",
       "    <tr>\n",
       "      <th>std</th>\n",
       "      <td>0.182532</td>\n",
       "      <td>0.259203</td>\n",
       "      <td>3.608929</td>\n",
       "      <td>4.710791</td>\n",
       "      <td>0.468057</td>\n",
       "      <td>0.110140</td>\n",
       "      <td>0.344426</td>\n",
       "      <td>0.338270</td>\n",
       "      <td>0.162778</td>\n",
       "      <td>0.245823</td>\n",
       "      <td>30.425833</td>\n",
       "      <td>1.303604e+05</td>\n",
       "      <td>0.514495</td>\n",
       "    </tr>\n",
       "    <tr>\n",
       "      <th>min</th>\n",
       "      <td>0.000000</td>\n",
       "      <td>0.000000</td>\n",
       "      <td>0.000000</td>\n",
       "      <td>-60.000000</td>\n",
       "      <td>0.000000</td>\n",
       "      <td>0.000000</td>\n",
       "      <td>0.000000</td>\n",
       "      <td>0.000000</td>\n",
       "      <td>0.000000</td>\n",
       "      <td>0.000000</td>\n",
       "      <td>0.000000</td>\n",
       "      <td>4.120000e+03</td>\n",
       "      <td>0.000000</td>\n",
       "    </tr>\n",
       "    <tr>\n",
       "      <th>25%</th>\n",
       "      <td>0.365000</td>\n",
       "      <td>0.385250</td>\n",
       "      <td>2.000000</td>\n",
       "      <td>-11.443250</td>\n",
       "      <td>0.000000</td>\n",
       "      <td>0.033700</td>\n",
       "      <td>0.018400</td>\n",
       "      <td>0.000029</td>\n",
       "      <td>0.101000</td>\n",
       "      <td>0.198000</td>\n",
       "      <td>95.753000</td>\n",
       "      <td>1.841365e+05</td>\n",
       "      <td>4.000000</td>\n",
       "    </tr>\n",
       "    <tr>\n",
       "      <th>50%</th>\n",
       "      <td>0.504000</td>\n",
       "      <td>0.600000</td>\n",
       "      <td>5.000000</td>\n",
       "      <td>-8.208000</td>\n",
       "      <td>1.000000</td>\n",
       "      <td>0.044700</td>\n",
       "      <td>0.206000</td>\n",
       "      <td>0.007795</td>\n",
       "      <td>0.128000</td>\n",
       "      <td>0.379000</td>\n",
       "      <td>118.604500</td>\n",
       "      <td>2.283070e+05</td>\n",
       "      <td>4.000000</td>\n",
       "    </tr>\n",
       "    <tr>\n",
       "      <th>75%</th>\n",
       "      <td>0.625000</td>\n",
       "      <td>0.804000</td>\n",
       "      <td>9.000000</td>\n",
       "      <td>-6.053250</td>\n",
       "      <td>1.000000</td>\n",
       "      <td>0.083500</td>\n",
       "      <td>0.666750</td>\n",
       "      <td>0.447000</td>\n",
       "      <td>0.257000</td>\n",
       "      <td>0.586750</td>\n",
       "      <td>139.330250</td>\n",
       "      <td>2.828765e+05</td>\n",
       "      <td>4.000000</td>\n",
       "    </tr>\n",
       "    <tr>\n",
       "      <th>max</th>\n",
       "      <td>0.985000</td>\n",
       "      <td>1.000000</td>\n",
       "      <td>11.000000</td>\n",
       "      <td>0.606000</td>\n",
       "      <td>1.000000</td>\n",
       "      <td>0.956000</td>\n",
       "      <td>0.996000</td>\n",
       "      <td>0.999000</td>\n",
       "      <td>1.000000</td>\n",
       "      <td>0.985000</td>\n",
       "      <td>220.217000</td>\n",
       "      <td>4.277994e+06</td>\n",
       "      <td>5.000000</td>\n",
       "    </tr>\n",
       "  </tbody>\n",
       "</table>\n",
       "</div>"
      ],
      "text/plain": [
       "       danceability        energy           key      loudness          mode  \\\n",
       "count  12166.000000  12166.000000  12166.000000  12166.000000  12166.000000   \n",
       "mean       0.494388      0.583324      5.221437     -9.256750      0.675900   \n",
       "std        0.182532      0.259203      3.608929      4.710791      0.468057   \n",
       "min        0.000000      0.000000      0.000000    -60.000000      0.000000   \n",
       "25%        0.365000      0.385250      2.000000    -11.443250      0.000000   \n",
       "50%        0.504000      0.600000      5.000000     -8.208000      1.000000   \n",
       "75%        0.625000      0.804000      9.000000     -6.053250      1.000000   \n",
       "max        0.985000      1.000000     11.000000      0.606000      1.000000   \n",
       "\n",
       "        speechiness  acousticness  instrumentalness      liveness  \\\n",
       "count  12166.000000  12166.000000      12166.000000  12166.000000   \n",
       "mean       0.087871      0.342467          0.228440      0.200862   \n",
       "std        0.110140      0.344426          0.338270      0.162778   \n",
       "min        0.000000      0.000000          0.000000      0.000000   \n",
       "25%        0.033700      0.018400          0.000029      0.101000   \n",
       "50%        0.044700      0.206000          0.007795      0.128000   \n",
       "75%        0.083500      0.666750          0.447000      0.257000   \n",
       "max        0.956000      0.996000          0.999000      1.000000   \n",
       "\n",
       "            valence         tempo   duration_ms  time_signature  \n",
       "count  12166.000000  12166.000000  1.216600e+04    12166.000000  \n",
       "mean       0.404076    119.495330  2.459897e+05        3.856403  \n",
       "std        0.245823     30.425833  1.303604e+05        0.514495  \n",
       "min        0.000000      0.000000  4.120000e+03        0.000000  \n",
       "25%        0.198000     95.753000  1.841365e+05        4.000000  \n",
       "50%        0.379000    118.604500  2.283070e+05        4.000000  \n",
       "75%        0.586750    139.330250  2.828765e+05        4.000000  \n",
       "max        0.985000    220.217000  4.277994e+06        5.000000  "
      ]
     },
     "execution_count": 23,
     "metadata": {},
     "output_type": "execute_result"
    }
   ],
   "source": [
    "all.describe()"
   ]
  },
  {
   "cell_type": "markdown",
   "metadata": {},
   "source": [
    "The ranges of values for danceability, energy, key, loudness, mode, speechiness, acousticness, instrumentalness, liveness, valence, duration_ms all make sense.  \n",
    "There is no track that is extremely danceable, loud, 100% speechy, confidently acoustic, confidently instrumental, or with totally positive valence.  \n",
    "67% of all tracks are in major key.  \n",
    "Tracks are generally lower valence.  \n",
    "There are a few songs that are mostly spoken words, but the majority are not speechy.  \n",
    "Most tracks are not live.  \n",
    "Tempo ranges from 0 bpm (???) to 220 (makes sense).  \n",
    "Mean track duration is around 4 minutes, with a minimum of 4 seconds, and a maximum of 7 minutes. Median is almost 4 minutes.  \n",
    "Not sure what it means to have a 0 time signature, but most tracks are in 4/4 time."
   ]
  },
  {
   "cell_type": "code",
   "execution_count": null,
   "metadata": {},
   "outputs": [],
   "source": []
  }
 ],
 "metadata": {
  "kernelspec": {
   "display_name": "Python [conda env:metis] *",
   "language": "python",
   "name": "conda-env-metis-py"
  },
  "language_info": {
   "codemirror_mode": {
    "name": "ipython",
    "version": 3
   },
   "file_extension": ".py",
   "mimetype": "text/x-python",
   "name": "python",
   "nbconvert_exporter": "python",
   "pygments_lexer": "ipython3",
   "version": "3.7.4"
  },
  "toc": {
   "base_numbering": 1,
   "nav_menu": {},
   "number_sections": true,
   "sideBar": true,
   "skip_h1_title": true,
   "title_cell": "Table of Contents",
   "title_sidebar": "Contents",
   "toc_cell": false,
   "toc_position": {
    "height": "calc(100% - 180px)",
    "left": "10px",
    "top": "150px",
    "width": "286.198px"
   },
   "toc_section_display": true,
   "toc_window_display": true
  }
 },
 "nbformat": 4,
 "nbformat_minor": 4
}
