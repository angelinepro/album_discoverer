{
 "cells": [
  {
   "cell_type": "markdown",
   "metadata": {},
   "source": [
    "# Notebook 6: Calculating Distance to Get Album Recommendations"
   ]
  },
  {
   "cell_type": "markdown",
   "metadata": {},
   "source": [
    "### Introduction"
   ]
  },
  {
   "cell_type": "markdown",
   "metadata": {},
   "source": [
    "At this point, I am fairly confident that I can group similar albums next to each other, and separate dissimilar albums. Now I can calculate the distances between albums to get the next most-similar album."
   ]
  },
  {
   "cell_type": "code",
   "execution_count": 1,
   "metadata": {
    "ExecuteTime": {
     "end_time": "2020-06-18T21:18:21.265044Z",
     "start_time": "2020-06-18T21:18:20.558997Z"
    }
   },
   "outputs": [],
   "source": [
    "import pandas as pd\n",
    "import numpy as np\n",
    "import pickle\n",
    "import sys\n",
    "\n",
    "sys.setrecursionlimit(1000000) #to allow pickling\n",
    "\n",
    "from sklearn.metrics.pairwise import cosine_similarity"
   ]
  },
  {
   "cell_type": "code",
   "execution_count": 2,
   "metadata": {
    "ExecuteTime": {
     "end_time": "2020-06-18T21:18:21.270784Z",
     "start_time": "2020-06-18T21:18:21.266754Z"
    }
   },
   "outputs": [],
   "source": [
    "with open('../data/components_by_album.pickle', 'rb') as read_file:\n",
    "    components_by_album = pickle.load(read_file)"
   ]
  },
  {
   "cell_type": "markdown",
   "metadata": {},
   "source": [
    "### Calculate Distances Between Albums Using Cosine Similarity"
   ]
  },
  {
   "cell_type": "code",
   "execution_count": 3,
   "metadata": {
    "ExecuteTime": {
     "end_time": "2020-06-18T21:18:23.377633Z",
     "start_time": "2020-06-18T21:18:23.352024Z"
    }
   },
   "outputs": [],
   "source": [
    "album_distances = (pd.concat([components_by_album.reset_index().iloc[:, 0], \n",
    "                             pd.DataFrame(cosine_similarity(components_by_album, \n",
    "                                                            components_by_album))], axis = 1)\n",
    "                   .set_index('album_artist'))"
   ]
  },
  {
   "cell_type": "code",
   "execution_count": 4,
   "metadata": {
    "ExecuteTime": {
     "end_time": "2020-06-18T21:18:23.824256Z",
     "start_time": "2020-06-18T21:18:23.793294Z"
    }
   },
   "outputs": [
    {
     "data": {
      "text/html": [
       "<div>\n",
       "<style scoped>\n",
       "    .dataframe tbody tr th:only-of-type {\n",
       "        vertical-align: middle;\n",
       "    }\n",
       "\n",
       "    .dataframe tbody tr th {\n",
       "        vertical-align: top;\n",
       "    }\n",
       "\n",
       "    .dataframe thead th {\n",
       "        text-align: right;\n",
       "    }\n",
       "</style>\n",
       "<table border=\"1\" class=\"dataframe\">\n",
       "  <thead>\n",
       "    <tr style=\"text-align: right;\">\n",
       "      <th></th>\n",
       "      <th>0</th>\n",
       "      <th>1</th>\n",
       "      <th>2</th>\n",
       "      <th>3</th>\n",
       "      <th>4</th>\n",
       "      <th>5</th>\n",
       "      <th>6</th>\n",
       "      <th>7</th>\n",
       "      <th>8</th>\n",
       "      <th>9</th>\n",
       "      <th>...</th>\n",
       "      <th>982</th>\n",
       "      <th>983</th>\n",
       "      <th>984</th>\n",
       "      <th>985</th>\n",
       "      <th>986</th>\n",
       "      <th>987</th>\n",
       "      <th>988</th>\n",
       "      <th>989</th>\n",
       "      <th>990</th>\n",
       "      <th>991</th>\n",
       "    </tr>\n",
       "    <tr>\n",
       "      <th>album_artist</th>\n",
       "      <th></th>\n",
       "      <th></th>\n",
       "      <th></th>\n",
       "      <th></th>\n",
       "      <th></th>\n",
       "      <th></th>\n",
       "      <th></th>\n",
       "      <th></th>\n",
       "      <th></th>\n",
       "      <th></th>\n",
       "      <th></th>\n",
       "      <th></th>\n",
       "      <th></th>\n",
       "      <th></th>\n",
       "      <th></th>\n",
       "      <th></th>\n",
       "      <th></th>\n",
       "      <th></th>\n",
       "      <th></th>\n",
       "      <th></th>\n",
       "      <th></th>\n",
       "    </tr>\n",
       "  </thead>\n",
       "  <tbody>\n",
       "    <tr>\n",
       "      <th>album:'Sno Angel Like You artist:Howe Gelb</th>\n",
       "      <td>1.000000</td>\n",
       "      <td>0.196119</td>\n",
       "      <td>-0.126353</td>\n",
       "      <td>-0.349491</td>\n",
       "      <td>0.680758</td>\n",
       "      <td>0.002047</td>\n",
       "      <td>0.663652</td>\n",
       "      <td>-0.590387</td>\n",
       "      <td>0.018596</td>\n",
       "      <td>0.681113</td>\n",
       "      <td>...</td>\n",
       "      <td>-0.447184</td>\n",
       "      <td>0.256640</td>\n",
       "      <td>-0.036927</td>\n",
       "      <td>0.590311</td>\n",
       "      <td>0.373287</td>\n",
       "      <td>0.212593</td>\n",
       "      <td>0.348281</td>\n",
       "      <td>-0.464251</td>\n",
       "      <td>-0.161543</td>\n",
       "      <td>-0.531004</td>\n",
       "    </tr>\n",
       "    <tr>\n",
       "      <th>album:(After) [Live] artist:Mount Eerie</th>\n",
       "      <td>0.196119</td>\n",
       "      <td>1.000000</td>\n",
       "      <td>0.151098</td>\n",
       "      <td>-0.118240</td>\n",
       "      <td>0.385248</td>\n",
       "      <td>-0.767658</td>\n",
       "      <td>0.499389</td>\n",
       "      <td>-0.338818</td>\n",
       "      <td>0.400910</td>\n",
       "      <td>-0.359876</td>\n",
       "      <td>...</td>\n",
       "      <td>-0.608348</td>\n",
       "      <td>0.196259</td>\n",
       "      <td>0.484581</td>\n",
       "      <td>0.456130</td>\n",
       "      <td>-0.244360</td>\n",
       "      <td>0.222367</td>\n",
       "      <td>0.685000</td>\n",
       "      <td>-0.182804</td>\n",
       "      <td>0.281368</td>\n",
       "      <td>0.066080</td>\n",
       "    </tr>\n",
       "    <tr>\n",
       "      <th>album:1988 artist:Blueprint</th>\n",
       "      <td>-0.126353</td>\n",
       "      <td>0.151098</td>\n",
       "      <td>1.000000</td>\n",
       "      <td>0.610367</td>\n",
       "      <td>-0.609010</td>\n",
       "      <td>0.294768</td>\n",
       "      <td>0.368747</td>\n",
       "      <td>0.000299</td>\n",
       "      <td>-0.745865</td>\n",
       "      <td>0.060013</td>\n",
       "      <td>...</td>\n",
       "      <td>-0.203739</td>\n",
       "      <td>0.864132</td>\n",
       "      <td>-0.623440</td>\n",
       "      <td>-0.660930</td>\n",
       "      <td>0.634253</td>\n",
       "      <td>0.905313</td>\n",
       "      <td>0.641563</td>\n",
       "      <td>0.711170</td>\n",
       "      <td>-0.742812</td>\n",
       "      <td>0.117676</td>\n",
       "    </tr>\n",
       "    <tr>\n",
       "      <th>album:1991 [EP] artist:Azealia Banks</th>\n",
       "      <td>-0.349491</td>\n",
       "      <td>-0.118240</td>\n",
       "      <td>0.610367</td>\n",
       "      <td>1.000000</td>\n",
       "      <td>-0.505227</td>\n",
       "      <td>0.130452</td>\n",
       "      <td>-0.008967</td>\n",
       "      <td>0.190758</td>\n",
       "      <td>-0.578058</td>\n",
       "      <td>-0.096567</td>\n",
       "      <td>...</td>\n",
       "      <td>-0.294269</td>\n",
       "      <td>0.437646</td>\n",
       "      <td>-0.389293</td>\n",
       "      <td>-0.598179</td>\n",
       "      <td>0.493837</td>\n",
       "      <td>0.277572</td>\n",
       "      <td>0.409281</td>\n",
       "      <td>0.431441</td>\n",
       "      <td>-0.609681</td>\n",
       "      <td>-0.205330</td>\n",
       "    </tr>\n",
       "    <tr>\n",
       "      <th>album:22, A Million artist:Bon Iver</th>\n",
       "      <td>0.680758</td>\n",
       "      <td>0.385248</td>\n",
       "      <td>-0.609010</td>\n",
       "      <td>-0.505227</td>\n",
       "      <td>1.000000</td>\n",
       "      <td>-0.495114</td>\n",
       "      <td>0.200953</td>\n",
       "      <td>-0.445459</td>\n",
       "      <td>0.634885</td>\n",
       "      <td>0.125029</td>\n",
       "      <td>...</td>\n",
       "      <td>-0.554505</td>\n",
       "      <td>-0.399147</td>\n",
       "      <td>0.564223</td>\n",
       "      <td>0.900792</td>\n",
       "      <td>-0.132118</td>\n",
       "      <td>-0.375139</td>\n",
       "      <td>0.101007</td>\n",
       "      <td>-0.871041</td>\n",
       "      <td>0.432412</td>\n",
       "      <td>-0.544459</td>\n",
       "    </tr>\n",
       "    <tr>\n",
       "      <th>...</th>\n",
       "      <td>...</td>\n",
       "      <td>...</td>\n",
       "      <td>...</td>\n",
       "      <td>...</td>\n",
       "      <td>...</td>\n",
       "      <td>...</td>\n",
       "      <td>...</td>\n",
       "      <td>...</td>\n",
       "      <td>...</td>\n",
       "      <td>...</td>\n",
       "      <td>...</td>\n",
       "      <td>...</td>\n",
       "      <td>...</td>\n",
       "      <td>...</td>\n",
       "      <td>...</td>\n",
       "      <td>...</td>\n",
       "      <td>...</td>\n",
       "      <td>...</td>\n",
       "      <td>...</td>\n",
       "      <td>...</td>\n",
       "      <td>...</td>\n",
       "    </tr>\n",
       "    <tr>\n",
       "      <th>album:uknowhatimsayin¿ artist:Danny Brown</th>\n",
       "      <td>0.212593</td>\n",
       "      <td>0.222367</td>\n",
       "      <td>0.905313</td>\n",
       "      <td>0.277572</td>\n",
       "      <td>-0.375139</td>\n",
       "      <td>0.325107</td>\n",
       "      <td>0.596381</td>\n",
       "      <td>-0.145375</td>\n",
       "      <td>-0.672521</td>\n",
       "      <td>0.276304</td>\n",
       "      <td>...</td>\n",
       "      <td>-0.212805</td>\n",
       "      <td>0.881816</td>\n",
       "      <td>-0.593259</td>\n",
       "      <td>-0.424812</td>\n",
       "      <td>0.671954</td>\n",
       "      <td>1.000000</td>\n",
       "      <td>0.652536</td>\n",
       "      <td>0.566499</td>\n",
       "      <td>-0.674262</td>\n",
       "      <td>0.035495</td>\n",
       "    </tr>\n",
       "    <tr>\n",
       "      <th>album:untitled unmastered. artist:Kendrick Lamar</th>\n",
       "      <td>0.348281</td>\n",
       "      <td>0.685000</td>\n",
       "      <td>0.641563</td>\n",
       "      <td>0.409281</td>\n",
       "      <td>0.101007</td>\n",
       "      <td>-0.378781</td>\n",
       "      <td>0.735278</td>\n",
       "      <td>-0.276315</td>\n",
       "      <td>-0.176588</td>\n",
       "      <td>-0.041926</td>\n",
       "      <td>...</td>\n",
       "      <td>-0.790101</td>\n",
       "      <td>0.696093</td>\n",
       "      <td>-0.029068</td>\n",
       "      <td>-0.022404</td>\n",
       "      <td>0.413872</td>\n",
       "      <td>0.652536</td>\n",
       "      <td>1.000000</td>\n",
       "      <td>0.026822</td>\n",
       "      <td>-0.370425</td>\n",
       "      <td>-0.268157</td>\n",
       "    </tr>\n",
       "    <tr>\n",
       "      <th>album:xx artist:The xx</th>\n",
       "      <td>-0.464251</td>\n",
       "      <td>-0.182804</td>\n",
       "      <td>0.711170</td>\n",
       "      <td>0.431441</td>\n",
       "      <td>-0.871041</td>\n",
       "      <td>0.576950</td>\n",
       "      <td>-0.051881</td>\n",
       "      <td>0.074815</td>\n",
       "      <td>-0.781519</td>\n",
       "      <td>0.134648</td>\n",
       "      <td>...</td>\n",
       "      <td>0.443031</td>\n",
       "      <td>0.585077</td>\n",
       "      <td>-0.720607</td>\n",
       "      <td>-0.665477</td>\n",
       "      <td>0.285858</td>\n",
       "      <td>0.566499</td>\n",
       "      <td>0.026822</td>\n",
       "      <td>1.000000</td>\n",
       "      <td>-0.577103</td>\n",
       "      <td>0.563069</td>\n",
       "    </tr>\n",
       "    <tr>\n",
       "      <th>album:Ágætis Byrjun artist:Sigur Rós</th>\n",
       "      <td>-0.161543</td>\n",
       "      <td>0.281368</td>\n",
       "      <td>-0.742812</td>\n",
       "      <td>-0.609681</td>\n",
       "      <td>0.432412</td>\n",
       "      <td>-0.666520</td>\n",
       "      <td>-0.188970</td>\n",
       "      <td>0.321298</td>\n",
       "      <td>0.925294</td>\n",
       "      <td>-0.586750</td>\n",
       "      <td>...</td>\n",
       "      <td>0.143715</td>\n",
       "      <td>-0.807199</td>\n",
       "      <td>0.913757</td>\n",
       "      <td>0.511160</td>\n",
       "      <td>-0.860985</td>\n",
       "      <td>-0.674262</td>\n",
       "      <td>-0.370425</td>\n",
       "      <td>-0.577103</td>\n",
       "      <td>1.000000</td>\n",
       "      <td>0.094650</td>\n",
       "    </tr>\n",
       "    <tr>\n",
       "      <th>album:Ø (Disambiguation) artist:Underoath</th>\n",
       "      <td>-0.531004</td>\n",
       "      <td>0.066080</td>\n",
       "      <td>0.117676</td>\n",
       "      <td>-0.205330</td>\n",
       "      <td>-0.544459</td>\n",
       "      <td>0.093327</td>\n",
       "      <td>-0.296940</td>\n",
       "      <td>-0.050875</td>\n",
       "      <td>-0.036568</td>\n",
       "      <td>-0.217296</td>\n",
       "      <td>...</td>\n",
       "      <td>0.617836</td>\n",
       "      <td>0.110988</td>\n",
       "      <td>-0.146980</td>\n",
       "      <td>-0.259767</td>\n",
       "      <td>-0.509935</td>\n",
       "      <td>0.035495</td>\n",
       "      <td>-0.268157</td>\n",
       "      <td>0.563069</td>\n",
       "      <td>0.094650</td>\n",
       "      <td>1.000000</td>\n",
       "    </tr>\n",
       "  </tbody>\n",
       "</table>\n",
       "<p>992 rows × 992 columns</p>\n",
       "</div>"
      ],
      "text/plain": [
       "                                                       0         1    \\\n",
       "album_artist                                                           \n",
       "album:'Sno Angel Like You artist:Howe Gelb        1.000000  0.196119   \n",
       "album:(After) [Live] artist:Mount Eerie           0.196119  1.000000   \n",
       "album:1988 artist:Blueprint                      -0.126353  0.151098   \n",
       "album:1991 [EP] artist:Azealia Banks             -0.349491 -0.118240   \n",
       "album:22, A Million artist:Bon Iver               0.680758  0.385248   \n",
       "...                                                    ...       ...   \n",
       "album:uknowhatimsayin¿ artist:Danny Brown         0.212593  0.222367   \n",
       "album:untitled unmastered. artist:Kendrick Lamar  0.348281  0.685000   \n",
       "album:xx artist:The xx                           -0.464251 -0.182804   \n",
       "album:Ágætis Byrjun artist:Sigur Rós             -0.161543  0.281368   \n",
       "album:Ø (Disambiguation) artist:Underoath        -0.531004  0.066080   \n",
       "\n",
       "                                                       2         3    \\\n",
       "album_artist                                                           \n",
       "album:'Sno Angel Like You artist:Howe Gelb       -0.126353 -0.349491   \n",
       "album:(After) [Live] artist:Mount Eerie           0.151098 -0.118240   \n",
       "album:1988 artist:Blueprint                       1.000000  0.610367   \n",
       "album:1991 [EP] artist:Azealia Banks              0.610367  1.000000   \n",
       "album:22, A Million artist:Bon Iver              -0.609010 -0.505227   \n",
       "...                                                    ...       ...   \n",
       "album:uknowhatimsayin¿ artist:Danny Brown         0.905313  0.277572   \n",
       "album:untitled unmastered. artist:Kendrick Lamar  0.641563  0.409281   \n",
       "album:xx artist:The xx                            0.711170  0.431441   \n",
       "album:Ágætis Byrjun artist:Sigur Rós             -0.742812 -0.609681   \n",
       "album:Ø (Disambiguation) artist:Underoath         0.117676 -0.205330   \n",
       "\n",
       "                                                       4         5    \\\n",
       "album_artist                                                           \n",
       "album:'Sno Angel Like You artist:Howe Gelb        0.680758  0.002047   \n",
       "album:(After) [Live] artist:Mount Eerie           0.385248 -0.767658   \n",
       "album:1988 artist:Blueprint                      -0.609010  0.294768   \n",
       "album:1991 [EP] artist:Azealia Banks             -0.505227  0.130452   \n",
       "album:22, A Million artist:Bon Iver               1.000000 -0.495114   \n",
       "...                                                    ...       ...   \n",
       "album:uknowhatimsayin¿ artist:Danny Brown        -0.375139  0.325107   \n",
       "album:untitled unmastered. artist:Kendrick Lamar  0.101007 -0.378781   \n",
       "album:xx artist:The xx                           -0.871041  0.576950   \n",
       "album:Ágætis Byrjun artist:Sigur Rós              0.432412 -0.666520   \n",
       "album:Ø (Disambiguation) artist:Underoath        -0.544459  0.093327   \n",
       "\n",
       "                                                       6         7    \\\n",
       "album_artist                                                           \n",
       "album:'Sno Angel Like You artist:Howe Gelb        0.663652 -0.590387   \n",
       "album:(After) [Live] artist:Mount Eerie           0.499389 -0.338818   \n",
       "album:1988 artist:Blueprint                       0.368747  0.000299   \n",
       "album:1991 [EP] artist:Azealia Banks             -0.008967  0.190758   \n",
       "album:22, A Million artist:Bon Iver               0.200953 -0.445459   \n",
       "...                                                    ...       ...   \n",
       "album:uknowhatimsayin¿ artist:Danny Brown         0.596381 -0.145375   \n",
       "album:untitled unmastered. artist:Kendrick Lamar  0.735278 -0.276315   \n",
       "album:xx artist:The xx                           -0.051881  0.074815   \n",
       "album:Ágætis Byrjun artist:Sigur Rós             -0.188970  0.321298   \n",
       "album:Ø (Disambiguation) artist:Underoath        -0.296940 -0.050875   \n",
       "\n",
       "                                                       8         9    ...  \\\n",
       "album_artist                                                          ...   \n",
       "album:'Sno Angel Like You artist:Howe Gelb        0.018596  0.681113  ...   \n",
       "album:(After) [Live] artist:Mount Eerie           0.400910 -0.359876  ...   \n",
       "album:1988 artist:Blueprint                      -0.745865  0.060013  ...   \n",
       "album:1991 [EP] artist:Azealia Banks             -0.578058 -0.096567  ...   \n",
       "album:22, A Million artist:Bon Iver               0.634885  0.125029  ...   \n",
       "...                                                    ...       ...  ...   \n",
       "album:uknowhatimsayin¿ artist:Danny Brown        -0.672521  0.276304  ...   \n",
       "album:untitled unmastered. artist:Kendrick Lamar -0.176588 -0.041926  ...   \n",
       "album:xx artist:The xx                           -0.781519  0.134648  ...   \n",
       "album:Ágætis Byrjun artist:Sigur Rós              0.925294 -0.586750  ...   \n",
       "album:Ø (Disambiguation) artist:Underoath        -0.036568 -0.217296  ...   \n",
       "\n",
       "                                                       982       983  \\\n",
       "album_artist                                                           \n",
       "album:'Sno Angel Like You artist:Howe Gelb       -0.447184  0.256640   \n",
       "album:(After) [Live] artist:Mount Eerie          -0.608348  0.196259   \n",
       "album:1988 artist:Blueprint                      -0.203739  0.864132   \n",
       "album:1991 [EP] artist:Azealia Banks             -0.294269  0.437646   \n",
       "album:22, A Million artist:Bon Iver              -0.554505 -0.399147   \n",
       "...                                                    ...       ...   \n",
       "album:uknowhatimsayin¿ artist:Danny Brown        -0.212805  0.881816   \n",
       "album:untitled unmastered. artist:Kendrick Lamar -0.790101  0.696093   \n",
       "album:xx artist:The xx                            0.443031  0.585077   \n",
       "album:Ágætis Byrjun artist:Sigur Rós              0.143715 -0.807199   \n",
       "album:Ø (Disambiguation) artist:Underoath         0.617836  0.110988   \n",
       "\n",
       "                                                       984       985  \\\n",
       "album_artist                                                           \n",
       "album:'Sno Angel Like You artist:Howe Gelb       -0.036927  0.590311   \n",
       "album:(After) [Live] artist:Mount Eerie           0.484581  0.456130   \n",
       "album:1988 artist:Blueprint                      -0.623440 -0.660930   \n",
       "album:1991 [EP] artist:Azealia Banks             -0.389293 -0.598179   \n",
       "album:22, A Million artist:Bon Iver               0.564223  0.900792   \n",
       "...                                                    ...       ...   \n",
       "album:uknowhatimsayin¿ artist:Danny Brown        -0.593259 -0.424812   \n",
       "album:untitled unmastered. artist:Kendrick Lamar -0.029068 -0.022404   \n",
       "album:xx artist:The xx                           -0.720607 -0.665477   \n",
       "album:Ágætis Byrjun artist:Sigur Rós              0.913757  0.511160   \n",
       "album:Ø (Disambiguation) artist:Underoath        -0.146980 -0.259767   \n",
       "\n",
       "                                                       986       987  \\\n",
       "album_artist                                                           \n",
       "album:'Sno Angel Like You artist:Howe Gelb        0.373287  0.212593   \n",
       "album:(After) [Live] artist:Mount Eerie          -0.244360  0.222367   \n",
       "album:1988 artist:Blueprint                       0.634253  0.905313   \n",
       "album:1991 [EP] artist:Azealia Banks              0.493837  0.277572   \n",
       "album:22, A Million artist:Bon Iver              -0.132118 -0.375139   \n",
       "...                                                    ...       ...   \n",
       "album:uknowhatimsayin¿ artist:Danny Brown         0.671954  1.000000   \n",
       "album:untitled unmastered. artist:Kendrick Lamar  0.413872  0.652536   \n",
       "album:xx artist:The xx                            0.285858  0.566499   \n",
       "album:Ágætis Byrjun artist:Sigur Rós             -0.860985 -0.674262   \n",
       "album:Ø (Disambiguation) artist:Underoath        -0.509935  0.035495   \n",
       "\n",
       "                                                       988       989  \\\n",
       "album_artist                                                           \n",
       "album:'Sno Angel Like You artist:Howe Gelb        0.348281 -0.464251   \n",
       "album:(After) [Live] artist:Mount Eerie           0.685000 -0.182804   \n",
       "album:1988 artist:Blueprint                       0.641563  0.711170   \n",
       "album:1991 [EP] artist:Azealia Banks              0.409281  0.431441   \n",
       "album:22, A Million artist:Bon Iver               0.101007 -0.871041   \n",
       "...                                                    ...       ...   \n",
       "album:uknowhatimsayin¿ artist:Danny Brown         0.652536  0.566499   \n",
       "album:untitled unmastered. artist:Kendrick Lamar  1.000000  0.026822   \n",
       "album:xx artist:The xx                            0.026822  1.000000   \n",
       "album:Ágætis Byrjun artist:Sigur Rós             -0.370425 -0.577103   \n",
       "album:Ø (Disambiguation) artist:Underoath        -0.268157  0.563069   \n",
       "\n",
       "                                                       990       991  \n",
       "album_artist                                                          \n",
       "album:'Sno Angel Like You artist:Howe Gelb       -0.161543 -0.531004  \n",
       "album:(After) [Live] artist:Mount Eerie           0.281368  0.066080  \n",
       "album:1988 artist:Blueprint                      -0.742812  0.117676  \n",
       "album:1991 [EP] artist:Azealia Banks             -0.609681 -0.205330  \n",
       "album:22, A Million artist:Bon Iver               0.432412 -0.544459  \n",
       "...                                                    ...       ...  \n",
       "album:uknowhatimsayin¿ artist:Danny Brown        -0.674262  0.035495  \n",
       "album:untitled unmastered. artist:Kendrick Lamar -0.370425 -0.268157  \n",
       "album:xx artist:The xx                           -0.577103  0.563069  \n",
       "album:Ágætis Byrjun artist:Sigur Rós              1.000000  0.094650  \n",
       "album:Ø (Disambiguation) artist:Underoath         0.094650  1.000000  \n",
       "\n",
       "[992 rows x 992 columns]"
      ]
     },
     "execution_count": 4,
     "metadata": {},
     "output_type": "execute_result"
    }
   ],
   "source": [
    "album_distances"
   ]
  },
  {
   "cell_type": "code",
   "execution_count": 5,
   "metadata": {
    "ExecuteTime": {
     "end_time": "2020-06-18T21:18:25.768979Z",
     "start_time": "2020-06-18T21:18:25.708147Z"
    }
   },
   "outputs": [],
   "source": [
    "album_distances['combined'] = album_distances.values.tolist()"
   ]
  },
  {
   "cell_type": "code",
   "execution_count": 6,
   "metadata": {
    "ExecuteTime": {
     "end_time": "2020-06-18T21:18:26.179379Z",
     "start_time": "2020-06-18T21:18:26.094272Z"
    }
   },
   "outputs": [],
   "source": [
    "#max_cosine variable has the index of the closest album, that isn't itself\n",
    "album_distances['max_cosine'] = album_distances.combined.map(lambda x: np.argsort(x)[::-1][1])"
   ]
  },
  {
   "cell_type": "markdown",
   "metadata": {},
   "source": [
    "### Check Recommendations"
   ]
  },
  {
   "cell_type": "markdown",
   "metadata": {},
   "source": [
    "I'll take a quick look at a few albums and their closest similar albums, just to make sure things make sense."
   ]
  },
  {
   "cell_type": "code",
   "execution_count": 7,
   "metadata": {
    "ExecuteTime": {
     "end_time": "2020-06-18T21:18:28.107033Z",
     "start_time": "2020-06-18T21:18:28.101536Z"
    }
   },
   "outputs": [
    {
     "data": {
      "text/plain": [
       "album_artist\n",
       "album:'Sno Angel Like You artist:Howe Gelb          535\n",
       "album:(After) [Live] artist:Mount Eerie             735\n",
       "album:1988 artist:Blueprint                         792\n",
       "album:1991 [EP] artist:Azealia Banks                872\n",
       "album:22, A Million artist:Bon Iver                 650\n",
       "                                                   ... \n",
       "album:uknowhatimsayin¿ artist:Danny Brown           118\n",
       "album:untitled unmastered. artist:Kendrick Lamar    824\n",
       "album:xx artist:The xx                              928\n",
       "album:Ágætis Byrjun artist:Sigur Rós                159\n",
       "album:Ø (Disambiguation) artist:Underoath           553\n",
       "Name: max_cosine, Length: 992, dtype: int64"
      ]
     },
     "execution_count": 7,
     "metadata": {},
     "output_type": "execute_result"
    }
   ],
   "source": [
    "album_distances.iloc[:, 993]"
   ]
  },
  {
   "cell_type": "code",
   "execution_count": 8,
   "metadata": {
    "ExecuteTime": {
     "end_time": "2020-06-18T21:18:28.874987Z",
     "start_time": "2020-06-18T21:18:28.870070Z"
    }
   },
   "outputs": [
    {
     "data": {
      "text/plain": [
       "album_artist\n",
       "album:Centralia artist:Mountains      990\n",
       "album:The Black Album artist:Jay-Z      2\n",
       "Name: max_cosine, dtype: int64"
      ]
     },
     "execution_count": 8,
     "metadata": {},
     "output_type": "execute_result"
    }
   ],
   "source": [
    "album_distances.iloc[[159, 792], 993]"
   ]
  },
  {
   "cell_type": "markdown",
   "metadata": {},
   "source": [
    "In broad strokes, there are similarities here. Sigur Rós's Ágætis Byrjun is similar to Centralia's Mountains - they are both very atmospheric, instrumental albums. Both Blueprint's 1988 and Jay-Z's Black Album are Hip-Hop/Rap. This makes sense."
   ]
  },
  {
   "cell_type": "markdown",
   "metadata": {},
   "source": [
    "### Return Most Similar Album"
   ]
  },
  {
   "cell_type": "markdown",
   "metadata": {},
   "source": [
    "These are the five most similar albums to Blueprint's 1988."
   ]
  },
  {
   "cell_type": "code",
   "execution_count": 9,
   "metadata": {
    "ExecuteTime": {
     "end_time": "2020-06-18T21:18:31.651269Z",
     "start_time": "2020-06-18T21:18:31.646492Z"
    }
   },
   "outputs": [],
   "source": [
    "dist = cosine_similarity(np.array(components_by_album.loc['album:1988 artist:Blueprint', ]).reshape(1, -1), components_by_album)[0]"
   ]
  },
  {
   "cell_type": "code",
   "execution_count": 10,
   "metadata": {
    "ExecuteTime": {
     "end_time": "2020-06-18T21:18:32.168923Z",
     "start_time": "2020-06-18T21:18:32.165822Z"
    }
   },
   "outputs": [],
   "source": [
    "match = np.argsort(dist)[::-1][:10]"
   ]
  },
  {
   "cell_type": "code",
   "execution_count": 11,
   "metadata": {
    "ExecuteTime": {
     "end_time": "2020-06-18T21:18:32.637692Z",
     "start_time": "2020-06-18T21:18:32.631920Z"
    }
   },
   "outputs": [
    {
     "data": {
      "text/plain": [
       "array(['album:The Black Album artist:Jay-Z',\n",
       "       'album:Control System artist:Ab-Soul',\n",
       "       'album:King Push - Darkest Before Dawn: The Prelude artist:Pusha T',\n",
       "       'album:The Blueprint artist:Jay-Z',\n",
       "       'album:Emeritus artist:Scarface'], dtype=object)"
      ]
     },
     "execution_count": 11,
     "metadata": {},
     "output_type": "execute_result"
    }
   ],
   "source": [
    "components_by_album.reset_index().iloc[match[1:6], 0].values"
   ]
  },
  {
   "cell_type": "markdown",
   "metadata": {},
   "source": [
    "The five most similar albums to The Breeders' All Nerve include Lykke Li's Wounded Rhymes."
   ]
  },
  {
   "cell_type": "code",
   "execution_count": 12,
   "metadata": {
    "ExecuteTime": {
     "end_time": "2020-06-18T21:18:34.586538Z",
     "start_time": "2020-06-18T21:18:34.581846Z"
    }
   },
   "outputs": [],
   "source": [
    "match = (np.argsort(cosine_similarity(np\n",
    "                                      .array(components_by_album\n",
    "                                             .loc['album:All Nerve artist:The Breeders', ])\n",
    "                                      .reshape(1, -1), components_by_album)[0])[::-1][:10])"
   ]
  },
  {
   "cell_type": "code",
   "execution_count": 13,
   "metadata": {
    "ExecuteTime": {
     "end_time": "2020-06-18T21:18:35.025449Z",
     "start_time": "2020-06-18T21:18:35.019802Z"
    }
   },
   "outputs": [
    {
     "data": {
      "text/plain": [
       "array(['album:Wounded Rhymes artist:Lykke Li',\n",
       "       'album:Two Dancers artist:Wild Beasts',\n",
       "       'album:Mwng artist:Super Furry Animals',\n",
       "       'album:Interstate Gospel artist:Pistol Annies',\n",
       "       'album:Nomad artist:Bombino'], dtype=object)"
      ]
     },
     "execution_count": 13,
     "metadata": {},
     "output_type": "execute_result"
    }
   ],
   "source": [
    "components_by_album.reset_index().iloc[match[1:6], 0].values"
   ]
  },
  {
   "cell_type": "markdown",
   "metadata": {},
   "source": [
    "The five most similar albums to Janelle Monáe's Dirty Computer includes Solange's A Seat at the Table."
   ]
  },
  {
   "cell_type": "code",
   "execution_count": 14,
   "metadata": {
    "ExecuteTime": {
     "end_time": "2020-06-18T21:18:36.445066Z",
     "start_time": "2020-06-18T21:18:36.437719Z"
    }
   },
   "outputs": [],
   "source": [
    "match = (np.argsort(cosine_similarity(np\n",
    "                                      .array(components_by_album\n",
    "                                             .loc['album:Dirty Computer artist:Janelle Monáe', ])\n",
    "                                      .reshape(1, -1), components_by_album)[0])[::-1][:10])"
   ]
  },
  {
   "cell_type": "code",
   "execution_count": 15,
   "metadata": {
    "ExecuteTime": {
     "end_time": "2020-06-18T21:18:37.003624Z",
     "start_time": "2020-06-18T21:18:36.997863Z"
    }
   },
   "outputs": [
    {
     "data": {
      "text/plain": [
       "array(['album:Transangelic Exodus artist:Ezra Furman',\n",
       "       'album:Saturn artist:nao',\n",
       "       'album:Elephant artist:The White Stripes',\n",
       "       'album:Yankee Hotel Foxtrot artist:Wilco',\n",
       "       'album:A Seat at the Table artist:Solange'], dtype=object)"
      ]
     },
     "execution_count": 15,
     "metadata": {},
     "output_type": "execute_result"
    }
   ],
   "source": [
    "components_by_album.reset_index().iloc[match[1:6], 0].values"
   ]
  },
  {
   "cell_type": "code",
   "execution_count": null,
   "metadata": {},
   "outputs": [],
   "source": []
  }
 ],
 "metadata": {
  "kernelspec": {
   "display_name": "Python [conda env:metis] *",
   "language": "python",
   "name": "conda-env-metis-py"
  },
  "language_info": {
   "codemirror_mode": {
    "name": "ipython",
    "version": 3
   },
   "file_extension": ".py",
   "mimetype": "text/x-python",
   "name": "python",
   "nbconvert_exporter": "python",
   "pygments_lexer": "ipython3",
   "version": "3.7.4"
  },
  "toc": {
   "base_numbering": 1,
   "nav_menu": {},
   "number_sections": true,
   "sideBar": true,
   "skip_h1_title": true,
   "title_cell": "Table of Contents",
   "title_sidebar": "Contents",
   "toc_cell": false,
   "toc_position": {},
   "toc_section_display": true,
   "toc_window_display": true
  }
 },
 "nbformat": 4,
 "nbformat_minor": 4
}
