{
 "cells": [
  {
   "cell_type": "markdown",
   "metadata": {},
   "source": [
    "# Notebook 4: Dimensionality Reduction of Genre"
   ]
  },
  {
   "cell_type": "markdown",
   "metadata": {},
   "source": [
    "### Introduction"
   ]
  },
  {
   "cell_type": "markdown",
   "metadata": {},
   "source": [
    "I need to clean up the genre information for each artist, since I plan to validate the results of the PCA by looking at how the albums cluster, expecting albums with similar genres to cluster near each other. Currently, there are multiple genres assigned for each artist, so I will do dimensionality reduction using CorEx to assign each album to a genre."
   ]
  },
  {
   "cell_type": "code",
   "execution_count": 1,
   "metadata": {
    "ExecuteTime": {
     "end_time": "2020-06-19T00:01:23.684205Z",
     "start_time": "2020-06-19T00:01:22.891471Z"
    }
   },
   "outputs": [],
   "source": [
    "import pandas as pd\n",
    "import numpy as np\n",
    "import pickle\n",
    "import sys\n",
    "\n",
    "sys.setrecursionlimit(1000000) #to allow pickling\n",
    "\n",
    "from corextopic import corextopic as ct\n",
    "from sklearn.feature_extraction.text import CountVectorizer"
   ]
  },
  {
   "cell_type": "code",
   "execution_count": 2,
   "metadata": {
    "ExecuteTime": {
     "end_time": "2020-06-19T00:01:23.710607Z",
     "start_time": "2020-06-19T00:01:23.686204Z"
    }
   },
   "outputs": [],
   "source": [
    "with open('../data/full.pickle', 'rb') as read_file:\n",
    "    all = pickle.load(read_file)"
   ]
  },
  {
   "cell_type": "code",
   "execution_count": 3,
   "metadata": {
    "ExecuteTime": {
     "end_time": "2020-06-19T00:01:24.389041Z",
     "start_time": "2020-06-19T00:01:24.371758Z"
    }
   },
   "outputs": [
    {
     "name": "stdout",
     "output_type": "stream",
     "text": [
      "<class 'pandas.core.frame.DataFrame'>\n",
      "RangeIndex: 12163 entries, 0 to 12162\n",
      "Data columns (total 22 columns):\n",
      " #   Column            Non-Null Count  Dtype  \n",
      "---  ------            --------------  -----  \n",
      " 0   album_artist      12163 non-null  object \n",
      " 1   album_id          12163 non-null  object \n",
      " 2   genre             12163 non-null  object \n",
      " 3   track_id          12163 non-null  object \n",
      " 4   danceability      12163 non-null  float64\n",
      " 5   energy            12163 non-null  float64\n",
      " 6   key               12163 non-null  int64  \n",
      " 7   loudness          12163 non-null  float64\n",
      " 8   mode              12163 non-null  int64  \n",
      " 9   speechiness       12163 non-null  float64\n",
      " 10  acousticness      12163 non-null  float64\n",
      " 11  instrumentalness  12163 non-null  float64\n",
      " 12  liveness          12163 non-null  float64\n",
      " 13  valence           12163 non-null  float64\n",
      " 14  tempo             12163 non-null  float64\n",
      " 15  type              12163 non-null  object \n",
      " 16  id                12163 non-null  object \n",
      " 17  uri               12163 non-null  object \n",
      " 18  track_href        12163 non-null  object \n",
      " 19  analysis_url      12163 non-null  object \n",
      " 20  duration_ms       12163 non-null  int64  \n",
      " 21  time_signature    12163 non-null  int64  \n",
      "dtypes: float64(9), int64(4), object(9)\n",
      "memory usage: 2.0+ MB\n"
     ]
    }
   ],
   "source": [
    "all.info()"
   ]
  },
  {
   "cell_type": "markdown",
   "metadata": {},
   "source": [
    "### Process Genre Data To Prepare for Count Vectorization"
   ]
  },
  {
   "cell_type": "code",
   "execution_count": 4,
   "metadata": {
    "ExecuteTime": {
     "end_time": "2020-06-19T00:01:30.400199Z",
     "start_time": "2020-06-19T00:01:30.317782Z"
    }
   },
   "outputs": [],
   "source": [
    "genre_data = all.loc[:, ['album_artist', 'genre']]\n",
    "genre_data['genre_flat'] = genre_data.genre.map(lambda x: ' '.join([i.replace(' ', '_').replace('-', '_') for i in x]))\n",
    "genre_data['genre_flat2'] = genre_data.genre.map(lambda x: ' '.join([i.replace(' ', '_').replace('-', '_').replace('+', '').replace(\"'\", '').replace('&', '') for i in x]))"
   ]
  },
  {
   "cell_type": "code",
   "execution_count": 5,
   "metadata": {
    "ExecuteTime": {
     "end_time": "2020-06-19T00:01:30.867594Z",
     "start_time": "2020-06-19T00:01:30.853861Z"
    }
   },
   "outputs": [],
   "source": [
    "genre_album = genre_data.loc[:, ['album_artist', 'genre_flat2']].drop_duplicates().reset_index(drop = True)"
   ]
  },
  {
   "cell_type": "markdown",
   "metadata": {},
   "source": [
    "### Use Count Vectorizer to Get All Possible Genres"
   ]
  },
  {
   "cell_type": "code",
   "execution_count": 6,
   "metadata": {
    "ExecuteTime": {
     "end_time": "2020-06-19T00:01:32.139713Z",
     "start_time": "2020-06-19T00:01:32.123560Z"
    }
   },
   "outputs": [],
   "source": [
    "all_genres = CountVectorizer()\n",
    "album_genres = all_genres.fit_transform(genre_album['genre_flat2'])"
   ]
  },
  {
   "cell_type": "markdown",
   "metadata": {},
   "source": [
    "Note that applying this count vectorizer to different kinds of music may not yield good results, because the available genres will change dramatically with the inclusion of new kinds of music."
   ]
  },
  {
   "cell_type": "code",
   "execution_count": 8,
   "metadata": {
    "ExecuteTime": {
     "end_time": "2020-06-19T00:01:40.763252Z",
     "start_time": "2020-06-19T00:01:40.754407Z"
    }
   },
   "outputs": [
    {
     "data": {
      "text/plain": [
       "['abstract_hip_hop',\n",
       " 'abstract_idm',\n",
       " 'acoustic_pop',\n",
       " 'action_rock',\n",
       " 'adult_standards',\n",
       " 'african_electronic',\n",
       " 'afro_funk',\n",
       " 'afro_psych',\n",
       " 'afrobeat',\n",
       " 'afrofuturism']"
      ]
     },
     "execution_count": 8,
     "metadata": {},
     "output_type": "execute_result"
    }
   ],
   "source": [
    "#List of genres detected\n",
    "all_genres.get_feature_names()[:10]"
   ]
  },
  {
   "cell_type": "code",
   "execution_count": 10,
   "metadata": {
    "ExecuteTime": {
     "end_time": "2020-06-19T00:02:28.878374Z",
     "start_time": "2020-06-19T00:02:28.876406Z"
    }
   },
   "outputs": [],
   "source": [
    "#Dataframe of all albums and which genres they are associated with\n",
    "#pd.DataFrame(album_genres.toarray(), columns = all_genres.get_feature_names())"
   ]
  },
  {
   "cell_type": "markdown",
   "metadata": {},
   "source": [
    "### Use CorEx for Dimensionality Reduction"
   ]
  },
  {
   "cell_type": "code",
   "execution_count": 10,
   "metadata": {
    "ExecuteTime": {
     "end_time": "2020-06-18T17:32:07.908165Z",
     "start_time": "2020-06-18T17:32:05.844025Z"
    }
   },
   "outputs": [
    {
     "data": {
      "text/plain": [
       "<corextopic.corextopic.Corex at 0x10255c4dd0>"
      ]
     },
     "execution_count": 10,
     "metadata": {},
     "output_type": "execute_result"
    }
   ],
   "source": [
    "genre_category = ct.Corex(n_hidden = 10, words = all_genres.get_feature_names(), seed = 1)\n",
    "genre_category.fit(album_genres, words = all_genres.get_feature_names(), docs = genre_album['genre_flat2'])"
   ]
  },
  {
   "cell_type": "code",
   "execution_count": 11,
   "metadata": {
    "ExecuteTime": {
     "end_time": "2020-06-18T17:32:08.706058Z",
     "start_time": "2020-06-18T17:32:08.696112Z"
    }
   },
   "outputs": [
    {
     "name": "stdout",
     "output_type": "stream",
     "text": [
      "0: folk,roots_rock,singer_songwriter,traditional_folk,country_rock,folk_rock,alternative_country,new_americana,mellow_gold,lilith\n",
      "1: hip_hop,rap,alternative_hip_hop,southern_hip_hop,neo_soul,soul,conscious_hip_hop,underground_hip_hop,pop_rap,funk\n",
      "2: intelligent_dance_music,electronica,microhouse,fluxwork,ambient,compositional_ambient,fourth_world,electra,drone,minimal_techno\n",
      "3: classic_rock,post_metal,drone_metal,post_doom_metal,alternative_metal,sludge_metal,album_rock,doom_metal,stoner_metal,progressive_sludge\n",
      "4: indie_rock,indie_pop,dance_punk,alternative_dance,new_rave,art_pop,noise_pop,indie_punk,modern_power_pop,brooklyn_indie\n",
      "5: freak_folk,indie_folk,chamber_pop,stomp_and_holler,experimental_pop,lo_fi,garage_psych,chamber_psych,gbvfi,experimental\n",
      "6: alternative_rb,indie_soul,escape_room,contemporary_jazz,indie_rb,afrofuturism,indie_jazz,abstract_hip_hop,contemporary_post_bop,trap_queen\n",
      "7: alternative_rock,rock,modern_rock,permanent_wave,dance_rock,britpop,new_wave,garage_rock,punk_blues,welsh_rock\n",
      "8: electropop,dance_pop,chillwave,indietronica,pop,nu_gaze,metropopolis,modern_alternative_rock,shoegaze,english_indie_rock\n",
      "9: slow_core,anti_folk,melancholia,art_rock,alternative_pop,post_rock,power_pop,olympia_wa_indie,chicago_indie,dream_pop\n"
     ]
    }
   ],
   "source": [
    "genre_name = genre_category.get_topics()\n",
    "for n,genre_name in enumerate(genre_name):\n",
    "    genre_words,_ = zip(*genre_name)\n",
    "    print('{}: '.format(n) + ','.join(genre_words))"
   ]
  },
  {
   "cell_type": "markdown",
   "metadata": {},
   "source": [
    "### Assign Genres to Each Album By Probability, With an \"Other\" Category"
   ]
  },
  {
   "cell_type": "code",
   "execution_count": 12,
   "metadata": {
    "ExecuteTime": {
     "end_time": "2020-06-18T17:32:11.101403Z",
     "start_time": "2020-06-18T17:32:11.094307Z"
    }
   },
   "outputs": [],
   "source": [
    "album_assigned_genre = pd.concat([genre_album.iloc[:, 0], \n",
    "           pd.DataFrame(genre_category.predict(album_genres), \n",
    "                        columns = ['genre'+str(i) for i in range(10)])],  axis = 1)"
   ]
  },
  {
   "cell_type": "code",
   "execution_count": 13,
   "metadata": {
    "ExecuteTime": {
     "end_time": "2020-06-18T17:32:11.757579Z",
     "start_time": "2020-06-18T17:32:11.753806Z"
    }
   },
   "outputs": [],
   "source": [
    "probabilities = pd.DataFrame(genre_category.p_y_given_x, columns = ['genre'+str(i) for i in range(10)])"
   ]
  },
  {
   "cell_type": "code",
   "execution_count": 14,
   "metadata": {
    "ExecuteTime": {
     "end_time": "2020-06-18T17:32:12.528800Z",
     "start_time": "2020-06-18T17:32:12.354795Z"
    }
   },
   "outputs": [],
   "source": [
    "genres_assigned = album_assigned_genre.set_index('album_artist')\n",
    "genres_assigned['any_genre'] = genres_assigned.apply(lambda x: 1 if x.sum() >= 1 else 0, axis = 1)\n",
    "genres_assigned['genre10'] = genres_assigned.any_genre.map(lambda x: True if x == 0 else False) #genre9 is catchall\n",
    "genres_assigned = genres_assigned.reset_index()\n",
    "#In instances where the album fits in multiple genres, assign the one with the highest probability\n",
    "genres_assigned['genre_num'] = probabilities.apply(lambda x: np.argmax(x), axis = 1)\n",
    "#If album does not fit into any genre (probability < 50%), put it in \"Other\" category\n",
    "genres_assigned['final_genre'] = genres_assigned.apply(lambda x: 10 if x.genre10 else x.genre_num, axis = 1)"
   ]
  },
  {
   "cell_type": "markdown",
   "metadata": {},
   "source": [
    "### Name Genres, Finalize Genre Data"
   ]
  },
  {
   "cell_type": "code",
   "execution_count": 15,
   "metadata": {
    "ExecuteTime": {
     "end_time": "2020-06-18T17:32:42.855833Z",
     "start_time": "2020-06-18T17:32:42.851369Z"
    }
   },
   "outputs": [],
   "source": [
    "album_assigned = genres_assigned[['album_artist', 'final_genre']]"
   ]
  },
  {
   "cell_type": "code",
   "execution_count": 16,
   "metadata": {
    "ExecuteTime": {
     "end_time": "2020-06-18T17:32:45.105840Z",
     "start_time": "2020-06-18T17:32:45.098242Z"
    }
   },
   "outputs": [],
   "source": [
    "genre_mapping = pd.DataFrame({0: 'Folk-SingerSongwriter', \n",
    "                              1: 'HipHop-Rap',\n",
    "                              2: 'Dance-Electronica',\n",
    "                              3: 'Metal-ClassicRock', \n",
    "                              4: 'Indie',\n",
    "                              5: 'Experimental',\n",
    "                              6: 'AlternativeRnB-IndieSoul',\n",
    "                              7: 'Rock-NewWave',\n",
    "                              8: 'Electropop-Pop',\n",
    "                              9: 'ArtRock-SlowCore',\n",
    "                              10: 'Other'}, index = [1]).T.reset_index()"
   ]
  },
  {
   "cell_type": "code",
   "execution_count": 17,
   "metadata": {
    "ExecuteTime": {
     "end_time": "2020-06-18T17:32:46.576036Z",
     "start_time": "2020-06-18T17:32:46.568769Z"
    }
   },
   "outputs": [],
   "source": [
    "album_genre_final = album_assigned.merge(genre_mapping, left_on = 'final_genre', right_on = 'index')[['album_artist', 1]]\n",
    "album_genre_final.columns = ['album_artist', 'genre']"
   ]
  },
  {
   "cell_type": "code",
   "execution_count": 18,
   "metadata": {
    "ExecuteTime": {
     "end_time": "2020-06-18T17:32:49.427519Z",
     "start_time": "2020-06-18T17:32:49.420580Z"
    }
   },
   "outputs": [
    {
     "data": {
      "text/plain": [
       "Other                       180\n",
       "Indie                       125\n",
       "Folk-SingerSongwriter       122\n",
       "HipHop-Rap                  119\n",
       "Experimental                110\n",
       "Dance-Electronica           107\n",
       "Metal-ClassicRock            68\n",
       "AlternativeRnB-IndieSoul     54\n",
       "Rock-NewWave                 43\n",
       "Electropop-Pop               42\n",
       "ArtRock-SlowCore             22\n",
       "Name: genre, dtype: int64"
      ]
     },
     "execution_count": 18,
     "metadata": {},
     "output_type": "execute_result"
    }
   ],
   "source": [
    "album_genre_final.genre.value_counts()"
   ]
  },
  {
   "cell_type": "code",
   "execution_count": 225,
   "metadata": {
    "ExecuteTime": {
     "end_time": "2020-06-15T19:40:50.867576Z",
     "start_time": "2020-06-15T19:40:50.863919Z"
    }
   },
   "outputs": [],
   "source": [
    "# with open('../data/album_genre.pickle', 'wb') as to_write:\n",
    "#     pickle.dump(album_genre_final, to_write)"
   ]
  },
  {
   "cell_type": "code",
   "execution_count": null,
   "metadata": {},
   "outputs": [],
   "source": []
  }
 ],
 "metadata": {
  "kernelspec": {
   "display_name": "Python [conda env:metis] *",
   "language": "python",
   "name": "conda-env-metis-py"
  },
  "language_info": {
   "codemirror_mode": {
    "name": "ipython",
    "version": 3
   },
   "file_extension": ".py",
   "mimetype": "text/x-python",
   "name": "python",
   "nbconvert_exporter": "python",
   "pygments_lexer": "ipython3",
   "version": "3.7.4"
  },
  "toc": {
   "base_numbering": 1,
   "nav_menu": {},
   "number_sections": true,
   "sideBar": true,
   "skip_h1_title": true,
   "title_cell": "Table of Contents",
   "title_sidebar": "Contents",
   "toc_cell": false,
   "toc_position": {
    "height": "calc(100% - 180px)",
    "left": "10px",
    "top": "150px",
    "width": "196.094px"
   },
   "toc_section_display": true,
   "toc_window_display": true
  }
 },
 "nbformat": 4,
 "nbformat_minor": 4
}
